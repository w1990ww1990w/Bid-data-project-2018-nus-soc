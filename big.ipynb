{
 "cells": [
  {
   "cell_type": "code",
   "execution_count": 36,
   "metadata": {
    "collapsed": true
   },
   "outputs": [],
   "source": [
    "from pyspark import SparkContext, SparkConf\n",
    "import pandas as pd\n",
    "import re\n",
    "from operator import add\n",
    "import numpy as np"
   ]
  },
  {
   "cell_type": "code",
   "execution_count": null,
   "metadata": {
    "collapsed": true
   },
   "outputs": [],
   "source": [
    "import os\n",
    "data1 = pd.read_csv(\"_Answers.csv\",encoding=\"latin-1\", iterator = True, chunksize=100)\n",
    "# print(data1)\n",
    "# data1.apply(lambda row: row.replace(\"\\n\", \" \"))\n",
    "# data1.to_csv(\"aaa.csv\",encoding='utf-8')\n",
    "# print(data1.iloc[0])\n",
    "hasHeader = False\n",
    "os.remove(\"aaa.csv\")\n",
    "for chunk in data1:\n",
    "    #print(chunk)\n",
    "    chunk[\"Body\"] = chunk[\"Body\"].map(lambda body: body.replace(\"\\n\", \" \"))\n",
    "    chunk[\"Body\"] = chunk[\"Body\"].map(lambda body: body.replace(\",\", \";\"))\n",
    "    #chunk[\"Title\"] = chunk[\"Title\"].map(lambda body: body.replace(\",\", \";\"))\n",
    "    #print(chunk)\n",
    "    #print(chunk[\"Body\"])\n",
    "    if hasHeader:\n",
    "        chunk.to_csv(\"aaa.csv\", mode = \"a\", encoding=\"utf-8\", header=False, index = False)\n",
    "    else:\n",
    "        chunk.to_csv(\"aaa.csv\", mode = \"a\", encoding=\"utf-8\", header=True, index = False)\n",
    "\n",
    "    #break\n",
    "#     print(type(chunk))\n",
    "#     for index, row in chunk.iterrows():\n",
    "#         print(row)\n",
    "#         print(row[\"Body\"])\n",
    "#         chunk.iloc[index][\"Body\"] = chunk.iloc[index][\"Body\"].replace(\"\\n\", \" \")\n",
    "#         print(chunk.iloc[index][\"Body\"])\n",
    "#         break\n",
    "# data1.to_csv(\"aaa.csv\",encoding='utf-8')\n",
    "# data1 = pd.read_csv(\"aaa.csv\")\n",
    "# data1.replace('\\n','')\n",
    "# data1.to_csv(\"bbb.csv\")\n",
    "print(\"finish\")\n",
    "df = spark.read.csv(\"aaa.csv\",header=True);\n",
    "print(df.take(3))"
   ]
  },
  {
   "cell_type": "code",
   "execution_count": 2,
   "metadata": {
    "collapsed": true
   },
   "outputs": [],
   "source": [
    "sc = SparkContext.getOrCreate()"
   ]
  },
  {
   "cell_type": "code",
   "execution_count": 3,
   "metadata": {},
   "outputs": [
    {
     "name": "stdout",
     "output_type": "stream",
     "text": [
      "finished\n"
     ]
    }
   ],
   "source": [
    "questionFile=sc.textFile(\"processedQuestion.csv\")\n",
    "answerFile=sc.textFile(\"processedAnswer.csv\")\n",
    "tagFile = sc.textFile(\"_Tags.csv\")\n",
    "stopWordsFile = sc.textFile(\"stopwords.txt\")\n",
    "print(\"finished\")"
   ]
  },
  {
   "cell_type": "code",
   "execution_count": 4,
   "metadata": {},
   "outputs": [
    {
     "name": "stdout",
     "output_type": "stream",
     "text": [
      "[['80', '26.0', '2008-08-01T13:57:07Z', '', '26', 'SQLStatement.execute() - multiple queries in one statement', '\"<p>I\\'ve written a database generation script in <a href=\"\"http://en.wikipedia.org/wiki/SQL\"\">SQL</a> and want to execute it in my <a href=\"\"http://en.wikipedia.org/wiki/Adobe_Integrated_Runtime\"\">Adobe AIR</a> application:</p>  <pre><code>Create Table tRole (       roleID integer Primary Key       ;roleName varchar(40) ); Create Table tFile (     fileID integer Primary Key     ;fileName varchar(50)     ;fileDescription varchar(500)     ;thumbnailID integer     ;fileFormatID integer     ;categoryID integer     ;isFavorite boolean     ;dateAdded date     ;globalAccessCount integer     ;lastAccessTime date     ;downloadComplete boolean     ;isNew boolean     ;isSpotlight boolean     ;duration varchar(30) ); Create Table tCategory (     categoryID integer Primary Key     ;categoryName varchar(50)     ;parent_categoryID integer ); ... </code></pre>  <p>I execute this in Adobe AIR using the following methods:</p>  <pre><code>public static function RunSqlFromFile(fileName:String):void {     var file:File = File.applicationDirectory.resolvePath(fileName);     var stream:FileStream = new FileStream();     stream.open(file; FileMode.READ)     var strSql:String = stream.readUTFBytes(stream.bytesAvailable);     NonQuery(strSql); }  public static function NonQuery(strSQL:String):void {     var sqlConnection:SQLConnection = new SQLConnection();     sqlConnection.open(File.applicationStorageDirectory.resolvePath(DBPATH);     var sqlStatement:SQLStatement = new SQLStatement();     sqlStatement.text = strSQL;     sqlStatement.sqlConnection = sqlConnection;     try     {         sqlStatement.execute();     }     catch (error:SQLError)     {         Alert.show(error.toString());     } } </code></pre>  <p>No errors are generated; however only <code>tRole</code> exists. It seems that it only looks at the first query (up to the semicolon- if I remove it; the query fails). Is there a way to call multiple queries in one statement?</p> \"'], ['90', '58.0', '2008-08-01T14:41:24Z', '2012-12-26T03:45:49Z', '144', 'Good branching and merging tutorials for TortoiseSVN?', '\"<p>Are there any really good tutorials explaining <a href=\"\"http://svnbook.red-bean.com/en/1.8/svn.branchmerge.html\"\" rel=\"\"nofollow\"\">branching and merging</a> with Apache Subversion? </p>  <p>All the better if it\\'s specific to TortoiseSVN client.</p> \"'], ['120', '83.0', '2008-08-01T15:50:08Z', '', '21', 'ASP.NET Site Maps', \"<p>Has anyone got experience creating <strong>SQL-based ASP.NET</strong> site-map providers?</p>  <p>I've got the default XML file <code>web.sitemap</code> working properly with my Menu and <strong>SiteMapPath</strong> controls; but I'll need a way for the users of my site to create and modify pages dynamically.</p>  <p>I need to tie page viewing permissions into the standard <code>ASP.NET</code> membership system as well.</p> \"]]\n"
     ]
    }
   ],
   "source": [
    "questionWithHeader = questionFile.map(lambda line: line.split(\",\")).filter(lambda line: len(line)>1)\n",
    "header = questionWithHeader.first() #extract header\n",
    "question = questionWithHeader.filter(lambda x: x != header)\n",
    "print(question.take(3))"
   ]
  },
  {
   "cell_type": "code",
   "execution_count": 5,
   "metadata": {},
   "outputs": [],
   "source": [
    "stopWordsList = stopWordsFile.collect()\n"
   ]
  },
  {
   "cell_type": "code",
   "execution_count": 6,
   "metadata": {},
   "outputs": [
    {
     "name": "stdout",
     "output_type": "stream",
     "text": [
      "[('80', 'sqlstatement.execute() - multiple queries in one statement\"<p>i\\'ve written a database generation script in <a href=\"\"http://en.wikipedia.org/wiki/sql\"\">sql</a> and want to execute it in my <a href=\"\"http://en.wikipedia.org/wiki/adobe_integrated_runtime\"\">adobe air</a> application:</p>  <pre><code>create table trole (       roleid integer primary key       ;rolename varchar(40) ); create table tfile (     fileid integer primary key     ;filename varchar(50)     ;filedescription varchar(500)     ;thumbnailid integer     ;fileformatid integer     ;categoryid integer     ;isfavorite boolean     ;dateadded date     ;globalaccesscount integer     ;lastaccesstime date     ;downloadcomplete boolean     ;isnew boolean     ;isspotlight boolean     ;duration varchar(30) ); create table tcategory (     categoryid integer primary key     ;categoryname varchar(50)     ;parent_categoryid integer ); ... </code></pre>  <p>i execute this in adobe air using the following methods:</p>  <pre><code>public static function runsqlfromfile(filename:string):void {     var file:file = file.applicationdirectory.resolvepath(filename);     var stream:filestream = new filestream();     stream.open(file; filemode.read)     var strsql:string = stream.readutfbytes(stream.bytesavailable);     nonquery(strsql); }  public static function nonquery(strsql:string):void {     var sqlconnection:sqlconnection = new sqlconnection();     sqlconnection.open(file.applicationstoragedirectory.resolvepath(dbpath);     var sqlstatement:sqlstatement = new sqlstatement();     sqlstatement.text = strsql;     sqlstatement.sqlconnection = sqlconnection;     try     {         sqlstatement.execute();     }     catch (error:sqlerror)     {         alert.show(error.tostring());     } } </code></pre>  <p>no errors are generated; however only <code>trole</code> exists. it seems that it only looks at the first query (up to the semicolon- if i remove it; the query fails). is there a way to call multiple queries in one statement?</p> \"'), ('90', 'good branching and merging tutorials for tortoisesvn?\"<p>are there any really good tutorials explaining <a href=\"\"http://svnbook.red-bean.com/en/1.8/svn.branchmerge.html\"\" rel=\"\"nofollow\"\">branching and merging</a> with apache subversion? </p>  <p>all the better if it\\'s specific to tortoisesvn client.</p> \"'), ('120', \"asp.net site maps<p>has anyone got experience creating <strong>sql-based asp.net</strong> site-map providers?</p>  <p>i've got the default xml file <code>web.sitemap</code> working properly with my menu and <strong>sitemappath</strong> controls; but i'll need a way for the users of my site to create and modify pages dynamically.</p>  <p>i need to tie page viewing permissions into the standard <code>asp.net</code> membership system as well.</p> \")]\n"
     ]
    }
   ],
   "source": [
    "questionLower = question.map(lambda x: (x[0], (x[5]+x[6]).lower()))\n",
    "print(questionLower.take(3))"
   ]
  },
  {
   "cell_type": "code",
   "execution_count": 7,
   "metadata": {},
   "outputs": [
    {
     "name": "stdout",
     "output_type": "stream",
     "text": [
      "[('80', 'sqlstatement execute multiple queries in one statement p i ve written a database generation script in a href http en wikipedia org wiki sql sql a and want to execute it in my a href http en wikipedia org wiki adobe integrated runtime adobe air a application p pre code create table trole roleid integer primary key rolename varchar create table tfile fileid integer primary key filename varchar filedescription varchar thumbnailid integer fileformatid integer categoryid integer isfavorite boolean dateadded date globalaccesscount integer lastaccesstime date downloadcomplete boolean isnew boolean isspotlight boolean duration varchar create table tcategory categoryid integer primary key categoryname varchar parent categoryid integer code pre p i execute this in adobe air using the following methods p pre code public static function runsqlfromfile filename string void var file file file applicationdirectory resolvepath filename var stream filestream new filestream stream open file filemode read var strsql string stream readutfbytes stream bytesavailable nonquery strsql public static function nonquery strsql string void var sqlconnection sqlconnection new sqlconnection sqlconnection open file applicationstoragedirectory resolvepath dbpath var sqlstatement sqlstatement new sqlstatement sqlstatement text strsql sqlstatement sqlconnection sqlconnection try sqlstatement execute catch error sqlerror alert show error tostring code pre p no errors are generated however only code trole code exists it seems that it only looks at the first query up to the semicolon if i remove it the query fails is there a way to call multiple queries in one statement p '), ('90', 'good branching and merging tutorials for tortoisesvn p are there any really good tutorials explaining a href http svnbook red bean com en svn branchmerge html rel nofollow branching and merging a with apache subversion p p all the better if it s specific to tortoisesvn client p '), ('120', 'asp net site maps p has anyone got experience creating strong sql based asp net strong site map providers p p i ve got the default xml file code web sitemap code working properly with my menu and strong sitemappath strong controls but i ll need a way for the users of my site to create and modify pages dynamically p p i need to tie page viewing permissions into the standard code asp net code membership system as well p ')]\n"
     ]
    }
   ],
   "source": [
    "def f(x): return re.sub('[^a-zA-Z]+', ' ', x)\n",
    "questionLower = questionLower.mapValues(f)\n",
    "print(questionLower.take(3))"
   ]
  },
  {
   "cell_type": "code",
   "execution_count": 8,
   "metadata": {},
   "outputs": [
    {
     "name": "stdout",
     "output_type": "stream",
     "text": [
      "[('80', 'sqlstatement'), ('80', 'execute'), ('80', 'multiple')]\n"
     ]
    }
   ],
   "source": [
    "def f2(x): return x.split(\" \")\n",
    "questionPairRaw = questionLower.flatMapValues(f2)\n",
    "print(questionPairRaw.take(3))"
   ]
  },
  {
   "cell_type": "code",
   "execution_count": 9,
   "metadata": {},
   "outputs": [
    {
     "name": "stdout",
     "output_type": "stream",
     "text": [
      "[('80', 'sqlstatement'), ('80', 'multiple'), ('80', 'queries')]\n"
     ]
    }
   ],
   "source": [
    "questionPair=questionPairRaw.filter(lambda x: x[1] not in stopWordsList)\n",
    "print(questionPair.take(3))"
   ]
  },
  {
   "cell_type": "code",
   "execution_count": 25,
   "metadata": {},
   "outputs": [
    {
     "name": "stdout",
     "output_type": "stream",
     "text": [
      "[('80', 'sqlstatement'), ('80', 'multiple'), ('80', 'queries'), ('80', 'statement'), ('80', 've')]\n"
     ]
    }
   ],
   "source": [
    "questionPairfilter=questionPair.filter(lambda x:x[1]!=\"\")\n",
    "print(questionPairfilter.take(5))"
   ]
  },
  {
   "cell_type": "code",
   "execution_count": 26,
   "metadata": {},
   "outputs": [
    {
     "name": "stdout",
     "output_type": "stream",
     "text": [
      "[('80@statement', 2), ('260@scripting', 1), ('810@legacy', 1)]\n"
     ]
    }
   ],
   "source": [
    "questionPairStage1 = questionPairfilter.map(lambda x:(x[0]+\"@\"+x[1],1)).reduceByKey(add)\n",
    "print(questionPairStage1.take(3))"
   ]
  },
  {
   "cell_type": "code",
   "execution_count": 30,
   "metadata": {},
   "outputs": [
    {
     "name": "stdout",
     "output_type": "stream",
     "text": [
      "[('80@statement', 2), ('260@scripting', 1), ('810@legacy', 1), ('1010@wepdwujodu', 2), ('1070@', 1)]\n"
     ]
    }
   ],
   "source": [
    "print(questionPairStage1.take(5))"
   ]
  },
  {
   "cell_type": "code",
   "execution_count": 27,
   "metadata": {},
   "outputs": [
    {
     "name": "stdout",
     "output_type": "stream",
     "text": [
      "64469259\n"
     ]
    }
   ],
   "source": [
    "N = questionPairStage1.count()\n",
    "print(N)"
   ]
  },
  {
   "cell_type": "code",
   "execution_count": 29,
   "metadata": {},
   "outputs": [
    {
     "name": "stdout",
     "output_type": "stream",
     "text": [
      "[('80@statement', 2), ('260@scripting', 1), ('810@legacy', 1), ('1010@wepdwujodu', 2), ('1070@', 1)]\n"
     ]
    }
   ],
   "source": [
    "print(questionPairStage1.take(5))"
   ]
  },
  {
   "cell_type": "code",
   "execution_count": 22,
   "metadata": {},
   "outputs": [
    {
     "name": "stdout",
     "output_type": "stream",
     "text": [
      "[('statement', '80=2'), ('scripting', '260=1'), ('legacy', '810=1'), ('wepdwujodu', '1010=2'), ('', '1070=1')]\n"
     ]
    }
   ],
   "source": [
    "questionPairStage2MapPhase = questionPairStage1.map(lambda x:(x[0].split(\"@\")[1],x[0].split(\"@\")[0]+\"=\"+str(x[1])))\n",
    "print(questionPairStage2MapPhase.take(5))"
   ]
  },
  {
   "cell_type": "code",
   "execution_count": 33,
   "metadata": {},
   "outputs": [
    {
     "name": "stdout",
     "output_type": "stream",
     "text": [
      "finish\n"
     ]
    }
   ],
   "source": [
    "stage2Map = questionPairStage2MapPhase.countByKey()\n",
    "print(\"finish\")"
   ]
  },
  {
   "cell_type": "code",
   "execution_count": 34,
   "metadata": {},
   "outputs": [
    {
     "name": "stdout",
     "output_type": "stream",
     "text": [
      "32326\n"
     ]
    }
   ],
   "source": [
    "print(stage2Map.get('statement'))"
   ]
  },
  {
   "cell_type": "code",
   "execution_count": 42,
   "metadata": {},
   "outputs": [
    {
     "name": "stdout",
     "output_type": "stream",
     "text": [
      "[('statement@80', 12.864654056714706), ('scripting@260', 9.952592008883006), ('legacy@810', 10.00613440500754), ('wepdwujodu@1010', 29.272062876568928), ('@1070', 3.9317379203466034)]\n"
     ]
    }
   ],
   "source": [
    "questionPairStage2 = questionPairStage2MapPhase.map(lambda x:(x[0]+\"@\"+x[1].split(\"=\")[0],(1+np.log(int(x[1].split(\"=\")[1])))*np.log(N/stage2Map.get(x[0]))))\n",
    "print(questionPairStage2.take(5))"
   ]
  },
  {
   "cell_type": "code",
   "execution_count": 45,
   "metadata": {},
   "outputs": [
    {
     "name": "stdout",
     "output_type": "stream",
     "text": [
      "[('80', 'statement=12.864654056714706'), ('260', 'scripting=9.952592008883006'), ('810', 'legacy=10.00613440500754'), ('1010', 'wepdwujodu=29.272062876568928'), ('1070', '=3.9317379203466034')]\n"
     ]
    }
   ],
   "source": [
    "questionPairStage3MapPhase = questionPairStage2.map(lambda x:(x[0].split(\"@\")[1],x[0].split(\"@\")[0]+\"=\"+str(x[1])))\n",
    "print(questionPairStage3MapPhase.take(5))"
   ]
  },
  {
   "cell_type": "code",
   "execution_count": 53,
   "metadata": {},
   "outputs": [
    {
     "name": "stdout",
     "output_type": "stream",
     "text": [
      "[('191010', 5074.003365361348), ('226970', 2258.900620871435), ('1157260', 18997.994160399725), ('1695830', 15225.933929664128), ('2369410', 8488.077651803182)]\n"
     ]
    }
   ],
   "source": [
    "def f3_1(a,b): return float(a)+float(b.split(\"=\")[1])*float(b.split(\"=\")[1])\n",
    "def f3_2(a,b): return float(a)+float(b)\n",
    "questionPairStage3AggByKey = questionPairStage3MapPhase.aggregateByKey(0.0,f3_1,f3_2)\n",
    "print(questionPairStage3AggByKey.take(5))"
   ]
  },
  {
   "cell_type": "code",
   "execution_count": 57,
   "metadata": {},
   "outputs": [
    {
     "name": "stdout",
     "output_type": "stream",
     "text": [
      "[2922.887889356336]\n"
     ]
    }
   ],
   "source": [
    "print(questionPairStage3AggByKey.lookup('90'))"
   ]
  },
  {
   "cell_type": "code",
   "execution_count": 61,
   "metadata": {},
   "outputs": [
    {
     "name": "stdout",
     "output_type": "stream",
     "text": [
      "[54.06373913591564]\n"
     ]
    }
   ],
   "source": [
    "questionPairStage3AggByKeysqr = questionPairStage3AggByKey.map(lambda x:(x[0],np.sqrt(x[1])))\n",
    "print(questionPairStage3AggByKeysqr.lookup('90'))"
   ]
  },
  {
   "cell_type": "code",
   "execution_count": 64,
   "metadata": {},
   "outputs": [
    {
     "name": "stdout",
     "output_type": "stream",
     "text": [
      "54.06373913591564\n"
     ]
    }
   ],
   "source": [
    "stage3Map = questionPairStage3AggByKeysqr.collectAsMap()\n",
    "print(stage3Map.get('90'))"
   ]
  },
  {
   "cell_type": "code",
   "execution_count": 67,
   "metadata": {},
   "outputs": [
    {
     "name": "stdout",
     "output_type": "stream",
     "text": [
      "[('31380', 'reason=0.16248503914702925'), ('35700', 'usb=0.15255058391552892'), ('42620', 'normalised=0.16504589374702966'), ('43180', 'independent=0.036884688869146094'), ('44660', 'csv=0.12725009991386094')]\n"
     ]
    }
   ],
   "source": [
    "questionPairStage3 = questionPairStage3MapPhase.map(lambda x:(x[0],x[1].split(\"=\")[0]+\"=\"+str(float(x[1].split(\"=\")[1])/stage3Map.get(x[0]))))\n",
    "print(questionPairStage3.take(5))"
   ]
  },
  {
   "cell_type": "code",
   "execution_count": 72,
   "metadata": {},
   "outputs": [
    {
     "name": "stdout",
     "output_type": "stream",
     "text": [
      "finish\n"
     ]
    }
   ],
   "source": [
    "def f4_1(a,b):\n",
    "    for item in a:\n",
    "        if float(b.split(\"=\")[1])>float(item.split(\"=\")[1]):\n",
    "            item = b\n",
    "            break\n",
    "    return a\n",
    "def f4_2(a,b):\n",
    "    for item1 in b:\n",
    "        for item2 in a:\n",
    "            if float(item1.split(\"=\")[1])>float(item2.split(\"=\")[1]):\n",
    "                item2 = item1\n",
    "                break\n",
    "    return a\n",
    "questionPairStage4 = questionPairStage3.aggregateByKey([\"a=0\",\"b=0\",\"c=0\",\"d=0\",\"e=0\"],f4_1,f4_2)\n",
    "print(\"finish\")"
   ]
  },
  {
   "cell_type": "code",
   "execution_count": 78,
   "metadata": {},
   "outputs": [
    {
     "ename": "KeyboardInterrupt",
     "evalue": "",
     "output_type": "error",
     "traceback": [
      "\u001b[0;31m---------------------------------------------------------------------------\u001b[0m",
      "\u001b[0;31mKeyboardInterrupt\u001b[0m                         Traceback (most recent call last)",
      "\u001b[0;32m<ipython-input-78-8896b141f4ac>\u001b[0m in \u001b[0;36m<module>\u001b[0;34m()\u001b[0m\n\u001b[0;32m----> 1\u001b[0;31m \u001b[0moutMap\u001b[0m\u001b[0;34m=\u001b[0m\u001b[0mquestionPairStage4\u001b[0m\u001b[0;34m.\u001b[0m\u001b[0mcollectAsMap\u001b[0m\u001b[0;34m(\u001b[0m\u001b[0;34m)\u001b[0m\u001b[0;34m\u001b[0m\u001b[0m\n\u001b[0m\u001b[1;32m      2\u001b[0m \u001b[0mprint\u001b[0m\u001b[0;34m(\u001b[0m\u001b[0;34m\"finish\"\u001b[0m\u001b[0;34m)\u001b[0m\u001b[0;34m\u001b[0m\u001b[0m\n",
      "\u001b[0;32m/usr/local/Cellar/apache-spark/2.3.0/libexec/python/pyspark/rdd.py\u001b[0m in \u001b[0;36mcollectAsMap\u001b[0;34m(self)\u001b[0m\n\u001b[1;32m   1583\u001b[0m         \u001b[0;36m4\u001b[0m\u001b[0;34m\u001b[0m\u001b[0m\n\u001b[1;32m   1584\u001b[0m         \"\"\"\n\u001b[0;32m-> 1585\u001b[0;31m         \u001b[0;32mreturn\u001b[0m \u001b[0mdict\u001b[0m\u001b[0;34m(\u001b[0m\u001b[0mself\u001b[0m\u001b[0;34m.\u001b[0m\u001b[0mcollect\u001b[0m\u001b[0;34m(\u001b[0m\u001b[0;34m)\u001b[0m\u001b[0;34m)\u001b[0m\u001b[0;34m\u001b[0m\u001b[0m\n\u001b[0m\u001b[1;32m   1586\u001b[0m \u001b[0;34m\u001b[0m\u001b[0m\n\u001b[1;32m   1587\u001b[0m     \u001b[0;32mdef\u001b[0m \u001b[0mkeys\u001b[0m\u001b[0;34m(\u001b[0m\u001b[0mself\u001b[0m\u001b[0;34m)\u001b[0m\u001b[0;34m:\u001b[0m\u001b[0;34m\u001b[0m\u001b[0m\n",
      "\u001b[0;32m/usr/local/Cellar/apache-spark/2.3.0/libexec/python/pyspark/rdd.py\u001b[0m in \u001b[0;36mcollect\u001b[0;34m(self)\u001b[0m\n\u001b[1;32m    822\u001b[0m         \"\"\"\n\u001b[1;32m    823\u001b[0m         \u001b[0;32mwith\u001b[0m \u001b[0mSCCallSiteSync\u001b[0m\u001b[0;34m(\u001b[0m\u001b[0mself\u001b[0m\u001b[0;34m.\u001b[0m\u001b[0mcontext\u001b[0m\u001b[0;34m)\u001b[0m \u001b[0;32mas\u001b[0m \u001b[0mcss\u001b[0m\u001b[0;34m:\u001b[0m\u001b[0;34m\u001b[0m\u001b[0m\n\u001b[0;32m--> 824\u001b[0;31m             \u001b[0mport\u001b[0m \u001b[0;34m=\u001b[0m \u001b[0mself\u001b[0m\u001b[0;34m.\u001b[0m\u001b[0mctx\u001b[0m\u001b[0;34m.\u001b[0m\u001b[0m_jvm\u001b[0m\u001b[0;34m.\u001b[0m\u001b[0mPythonRDD\u001b[0m\u001b[0;34m.\u001b[0m\u001b[0mcollectAndServe\u001b[0m\u001b[0;34m(\u001b[0m\u001b[0mself\u001b[0m\u001b[0;34m.\u001b[0m\u001b[0m_jrdd\u001b[0m\u001b[0;34m.\u001b[0m\u001b[0mrdd\u001b[0m\u001b[0;34m(\u001b[0m\u001b[0;34m)\u001b[0m\u001b[0;34m)\u001b[0m\u001b[0;34m\u001b[0m\u001b[0m\n\u001b[0m\u001b[1;32m    825\u001b[0m         \u001b[0;32mreturn\u001b[0m \u001b[0mlist\u001b[0m\u001b[0;34m(\u001b[0m\u001b[0m_load_from_socket\u001b[0m\u001b[0;34m(\u001b[0m\u001b[0mport\u001b[0m\u001b[0;34m,\u001b[0m \u001b[0mself\u001b[0m\u001b[0;34m.\u001b[0m\u001b[0m_jrdd_deserializer\u001b[0m\u001b[0;34m)\u001b[0m\u001b[0;34m)\u001b[0m\u001b[0;34m\u001b[0m\u001b[0m\n\u001b[1;32m    826\u001b[0m \u001b[0;34m\u001b[0m\u001b[0m\n",
      "\u001b[0;32m/usr/local/Cellar/apache-spark/2.3.0/libexec/python/lib/py4j-0.10.6-src.zip/py4j/java_gateway.py\u001b[0m in \u001b[0;36m__call__\u001b[0;34m(self, *args)\u001b[0m\n\u001b[1;32m   1156\u001b[0m             \u001b[0mproto\u001b[0m\u001b[0;34m.\u001b[0m\u001b[0mEND_COMMAND_PART\u001b[0m\u001b[0;34m\u001b[0m\u001b[0m\n\u001b[1;32m   1157\u001b[0m \u001b[0;34m\u001b[0m\u001b[0m\n\u001b[0;32m-> 1158\u001b[0;31m         \u001b[0manswer\u001b[0m \u001b[0;34m=\u001b[0m \u001b[0mself\u001b[0m\u001b[0;34m.\u001b[0m\u001b[0mgateway_client\u001b[0m\u001b[0;34m.\u001b[0m\u001b[0msend_command\u001b[0m\u001b[0;34m(\u001b[0m\u001b[0mcommand\u001b[0m\u001b[0;34m)\u001b[0m\u001b[0;34m\u001b[0m\u001b[0m\n\u001b[0m\u001b[1;32m   1159\u001b[0m         return_value = get_return_value(\n\u001b[1;32m   1160\u001b[0m             answer, self.gateway_client, self.target_id, self.name)\n",
      "\u001b[0;32m/usr/local/Cellar/apache-spark/2.3.0/libexec/python/lib/py4j-0.10.6-src.zip/py4j/java_gateway.py\u001b[0m in \u001b[0;36msend_command\u001b[0;34m(self, command, retry, binary)\u001b[0m\n\u001b[1;32m    906\u001b[0m         \u001b[0mconnection\u001b[0m \u001b[0;34m=\u001b[0m \u001b[0mself\u001b[0m\u001b[0;34m.\u001b[0m\u001b[0m_get_connection\u001b[0m\u001b[0;34m(\u001b[0m\u001b[0;34m)\u001b[0m\u001b[0;34m\u001b[0m\u001b[0m\n\u001b[1;32m    907\u001b[0m         \u001b[0;32mtry\u001b[0m\u001b[0;34m:\u001b[0m\u001b[0;34m\u001b[0m\u001b[0m\n\u001b[0;32m--> 908\u001b[0;31m             \u001b[0mresponse\u001b[0m \u001b[0;34m=\u001b[0m \u001b[0mconnection\u001b[0m\u001b[0;34m.\u001b[0m\u001b[0msend_command\u001b[0m\u001b[0;34m(\u001b[0m\u001b[0mcommand\u001b[0m\u001b[0;34m)\u001b[0m\u001b[0;34m\u001b[0m\u001b[0m\n\u001b[0m\u001b[1;32m    909\u001b[0m             \u001b[0;32mif\u001b[0m \u001b[0mbinary\u001b[0m\u001b[0;34m:\u001b[0m\u001b[0;34m\u001b[0m\u001b[0m\n\u001b[1;32m    910\u001b[0m                 \u001b[0;32mreturn\u001b[0m \u001b[0mresponse\u001b[0m\u001b[0;34m,\u001b[0m \u001b[0mself\u001b[0m\u001b[0;34m.\u001b[0m\u001b[0m_create_connection_guard\u001b[0m\u001b[0;34m(\u001b[0m\u001b[0mconnection\u001b[0m\u001b[0;34m)\u001b[0m\u001b[0;34m\u001b[0m\u001b[0m\n",
      "\u001b[0;32m/usr/local/Cellar/apache-spark/2.3.0/libexec/python/lib/py4j-0.10.6-src.zip/py4j/java_gateway.py\u001b[0m in \u001b[0;36msend_command\u001b[0;34m(self, command)\u001b[0m\n\u001b[1;32m   1053\u001b[0m \u001b[0;34m\u001b[0m\u001b[0m\n\u001b[1;32m   1054\u001b[0m         \u001b[0;32mtry\u001b[0m\u001b[0;34m:\u001b[0m\u001b[0;34m\u001b[0m\u001b[0m\n\u001b[0;32m-> 1055\u001b[0;31m             \u001b[0manswer\u001b[0m \u001b[0;34m=\u001b[0m \u001b[0msmart_decode\u001b[0m\u001b[0;34m(\u001b[0m\u001b[0mself\u001b[0m\u001b[0;34m.\u001b[0m\u001b[0mstream\u001b[0m\u001b[0;34m.\u001b[0m\u001b[0mreadline\u001b[0m\u001b[0;34m(\u001b[0m\u001b[0;34m)\u001b[0m\u001b[0;34m[\u001b[0m\u001b[0;34m:\u001b[0m\u001b[0;34m-\u001b[0m\u001b[0;36m1\u001b[0m\u001b[0;34m]\u001b[0m\u001b[0;34m)\u001b[0m\u001b[0;34m\u001b[0m\u001b[0m\n\u001b[0m\u001b[1;32m   1056\u001b[0m             \u001b[0mlogger\u001b[0m\u001b[0;34m.\u001b[0m\u001b[0mdebug\u001b[0m\u001b[0;34m(\u001b[0m\u001b[0;34m\"Answer received: {0}\"\u001b[0m\u001b[0;34m.\u001b[0m\u001b[0mformat\u001b[0m\u001b[0;34m(\u001b[0m\u001b[0manswer\u001b[0m\u001b[0;34m)\u001b[0m\u001b[0;34m)\u001b[0m\u001b[0;34m\u001b[0m\u001b[0m\n\u001b[1;32m   1057\u001b[0m             \u001b[0;32mif\u001b[0m \u001b[0manswer\u001b[0m\u001b[0;34m.\u001b[0m\u001b[0mstartswith\u001b[0m\u001b[0;34m(\u001b[0m\u001b[0mproto\u001b[0m\u001b[0;34m.\u001b[0m\u001b[0mRETURN_MESSAGE\u001b[0m\u001b[0;34m)\u001b[0m\u001b[0;34m:\u001b[0m\u001b[0;34m\u001b[0m\u001b[0m\n",
      "\u001b[0;32m~/anaconda3/lib/python3.6/socket.py\u001b[0m in \u001b[0;36mreadinto\u001b[0;34m(self, b)\u001b[0m\n\u001b[1;32m    584\u001b[0m         \u001b[0;32mwhile\u001b[0m \u001b[0;32mTrue\u001b[0m\u001b[0;34m:\u001b[0m\u001b[0;34m\u001b[0m\u001b[0m\n\u001b[1;32m    585\u001b[0m             \u001b[0;32mtry\u001b[0m\u001b[0;34m:\u001b[0m\u001b[0;34m\u001b[0m\u001b[0m\n\u001b[0;32m--> 586\u001b[0;31m                 \u001b[0;32mreturn\u001b[0m \u001b[0mself\u001b[0m\u001b[0;34m.\u001b[0m\u001b[0m_sock\u001b[0m\u001b[0;34m.\u001b[0m\u001b[0mrecv_into\u001b[0m\u001b[0;34m(\u001b[0m\u001b[0mb\u001b[0m\u001b[0;34m)\u001b[0m\u001b[0;34m\u001b[0m\u001b[0m\n\u001b[0m\u001b[1;32m    587\u001b[0m             \u001b[0;32mexcept\u001b[0m \u001b[0mtimeout\u001b[0m\u001b[0;34m:\u001b[0m\u001b[0;34m\u001b[0m\u001b[0m\n\u001b[1;32m    588\u001b[0m                 \u001b[0mself\u001b[0m\u001b[0;34m.\u001b[0m\u001b[0m_timeout_occurred\u001b[0m \u001b[0;34m=\u001b[0m \u001b[0;32mTrue\u001b[0m\u001b[0;34m\u001b[0m\u001b[0m\n",
      "\u001b[0;31mKeyboardInterrupt\u001b[0m: "
     ]
    }
   ],
   "source": [
    "outMap=questionPairStage4.collectAsMap()\n",
    "print(\"finish\")"
   ]
  },
  {
   "cell_type": "code",
   "execution_count": null,
   "metadata": {},
   "outputs": [],
   "source": [
    "print(1)"
   ]
  },
  {
   "cell_type": "code",
   "execution_count": null,
   "metadata": {
    "collapsed": true
   },
   "outputs": [],
   "source": []
  }
 ],
 "metadata": {
  "kernelspec": {
   "display_name": "Python 3",
   "language": "python",
   "name": "python3"
  },
  "language_info": {
   "codemirror_mode": {
    "name": "ipython",
    "version": 3
   },
   "file_extension": ".py",
   "mimetype": "text/x-python",
   "name": "python",
   "nbconvert_exporter": "python",
   "pygments_lexer": "ipython3",
   "version": "3.6.3"
  }
 },
 "nbformat": 4,
 "nbformat_minor": 2
}
